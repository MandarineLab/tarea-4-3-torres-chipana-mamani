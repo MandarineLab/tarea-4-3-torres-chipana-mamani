{
 "cells": [
  {
   "cell_type": "markdown",
   "metadata": {},
   "source": [
    "# **Tarea Nº 4**"
   ]
  },
  {
   "cell_type": "markdown",
   "metadata": {},
   "source": [
    "- Fecha y hora de entrega: Domingo 12 de enero, 11:59pm\n",
    "- Agregue los nombres de las personas con las que discutió esta tarea: __Leydi Chipana__\n",
    "- Envíe su tarea haciendo el `push` de su código a su repo en GitHub Classroom: "
   ]
  },
  {
   "cell_type": "markdown",
   "metadata": {},
   "source": [
    "## **Mercado de autos usados**"
   ]
  },
  {
   "cell_type": "markdown",
   "metadata": {},
   "source": [
    "Importa el conjunto de datos `neoauto_20240924.csv`\n",
    "    "
   ]
  },
  {
   "cell_type": "markdown",
   "metadata": {},
   "source": [
    "1. ¿Cuál es el precio promedio de los autos de cada marca (`item_brand`) publicados en cada subcategoría (`item_category_2`)?"
   ]
  },
  {
   "cell_type": "code",
   "execution_count": 50,
   "metadata": {},
   "outputs": [
    {
     "data": {
      "text/html": [
       "<div>\n",
       "<style scoped>\n",
       "    .dataframe tbody tr th:only-of-type {\n",
       "        vertical-align: middle;\n",
       "    }\n",
       "\n",
       "    .dataframe tbody tr th {\n",
       "        vertical-align: top;\n",
       "    }\n",
       "\n",
       "    .dataframe thead th {\n",
       "        text-align: right;\n",
       "    }\n",
       "</style>\n",
       "<table border=\"1\" class=\"dataframe\">\n",
       "  <thead>\n",
       "    <tr style=\"text-align: right;\">\n",
       "      <th></th>\n",
       "      <th></th>\n",
       "      <th>item_price</th>\n",
       "    </tr>\n",
       "    <tr>\n",
       "      <th>item_category_2</th>\n",
       "      <th>item_brand</th>\n",
       "      <th></th>\n",
       "    </tr>\n",
       "  </thead>\n",
       "  <tbody>\n",
       "    <tr>\n",
       "      <th rowspan=\"5\" valign=\"top\">Camionetas Suv</th>\n",
       "      <th>ASTON MARTIN</th>\n",
       "      <td>229000.000000</td>\n",
       "    </tr>\n",
       "    <tr>\n",
       "      <th>AUDI</th>\n",
       "      <td>34602.424242</td>\n",
       "    </tr>\n",
       "    <tr>\n",
       "      <th>BAIC</th>\n",
       "      <td>10800.000000</td>\n",
       "    </tr>\n",
       "    <tr>\n",
       "      <th>BAIC YINXIANG</th>\n",
       "      <td>8500.000000</td>\n",
       "    </tr>\n",
       "    <tr>\n",
       "      <th>BMW</th>\n",
       "      <td>38377.802469</td>\n",
       "    </tr>\n",
       "    <tr>\n",
       "      <th>...</th>\n",
       "      <th>...</th>\n",
       "      <td>...</td>\n",
       "    </tr>\n",
       "    <tr>\n",
       "      <th rowspan=\"5\" valign=\"top\">Vans</th>\n",
       "      <th>RAM</th>\n",
       "      <td>8883.333333</td>\n",
       "    </tr>\n",
       "    <tr>\n",
       "      <th>RENAULT</th>\n",
       "      <td>4900.000000</td>\n",
       "    </tr>\n",
       "    <tr>\n",
       "      <th>SUZUKI</th>\n",
       "      <td>11058.333333</td>\n",
       "    </tr>\n",
       "    <tr>\n",
       "      <th>TOYOTA</th>\n",
       "      <td>16080.000000</td>\n",
       "    </tr>\n",
       "    <tr>\n",
       "      <th>VOLKSWAGEN</th>\n",
       "      <td>14350.000000</td>\n",
       "    </tr>\n",
       "  </tbody>\n",
       "</table>\n",
       "<p>202 rows × 1 columns</p>\n",
       "</div>"
      ],
      "text/plain": [
       "                                  item_price\n",
       "item_category_2 item_brand                  \n",
       "Camionetas Suv  ASTON MARTIN   229000.000000\n",
       "                AUDI            34602.424242\n",
       "                BAIC            10800.000000\n",
       "                BAIC YINXIANG    8500.000000\n",
       "                BMW             38377.802469\n",
       "...                                      ...\n",
       "Vans            RAM              8883.333333\n",
       "                RENAULT          4900.000000\n",
       "                SUZUKI          11058.333333\n",
       "                TOYOTA          16080.000000\n",
       "                VOLKSWAGEN      14350.000000\n",
       "\n",
       "[202 rows x 1 columns]"
      ]
     },
     "execution_count": 50,
     "metadata": {},
     "output_type": "execute_result"
    }
   ],
   "source": [
    "# Solución\n",
    "\n",
    "import pandas as pd\n",
    "df1 = pd.read_csv('neoauto_20240924.csv')\n",
    "# Agrupamos las columnas 'item_brand' y 'item_category_2' en la nueva data average_price\n",
    "# Calculamos la medfia de item_price con .mean()\n",
    "average_price = df1.groupby( ['item_category_2', 'item_brand'])[['item_price']].mean()\n",
    "average_price\n",
    "# El precio promedio por marca y subcategoría se muestra en item_price"
   ]
  },
  {
   "cell_type": "markdown",
   "metadata": {},
   "source": [
    "2. ¿Cuántos autos tienen más de 100,000 kilómetros (`item_km`) pero un precio (`item_price`) menor al promedio general?"
   ]
  },
  {
   "cell_type": "code",
   "execution_count": 51,
   "metadata": {},
   "outputs": [
    {
     "name": "stdout",
     "output_type": "stream",
     "text": [
      "22032.990101460036\n",
      "\n",
      "Número de autos con más de 100,000 km y precio menor al promedio general: 497\n"
     ]
    }
   ],
   "source": [
    "# Solución\n",
    "mean_price = df1['item_price'].mean()\n",
    "# Usamos el operador & para unir 2 filtrados\n",
    "df_km_price = df1[(df1['item_km'] > 100000) & (df1['item_price'] < mean_price)]\n",
    "# Shape nos da el número de filas o elementos de nuestra data filtrada\n",
    "print(\"\\nNúmero de autos con más de 100,000 km y precio menor al promedio general:\", df_km_price.shape[0])"
   ]
  },
  {
   "cell_type": "markdown",
   "metadata": {},
   "source": [
    "3. Encuentra el modelo (`item_name`) más caro y el más barato de cada marca (`item_brand`)."
   ]
  },
  {
   "cell_type": "code",
   "execution_count": 11,
   "metadata": {},
   "outputs": [
    {
     "data": {
      "text/html": [
       "<div>\n",
       "<style scoped>\n",
       "    .dataframe tbody tr th:only-of-type {\n",
       "        vertical-align: middle;\n",
       "    }\n",
       "\n",
       "    .dataframe tbody tr th {\n",
       "        vertical-align: top;\n",
       "    }\n",
       "\n",
       "    .dataframe thead th {\n",
       "        text-align: right;\n",
       "    }\n",
       "</style>\n",
       "<table border=\"1\" class=\"dataframe\">\n",
       "  <thead>\n",
       "    <tr style=\"text-align: right;\">\n",
       "      <th></th>\n",
       "      <th>item_brand</th>\n",
       "      <th>item_name</th>\n",
       "      <th>item_price</th>\n",
       "    </tr>\n",
       "  </thead>\n",
       "  <tbody>\n",
       "    <tr>\n",
       "      <th>1362</th>\n",
       "      <td>ALFA-ROMEO</td>\n",
       "      <td>alfa-romeo 147 2006</td>\n",
       "      <td>8500.0</td>\n",
       "    </tr>\n",
       "    <tr>\n",
       "      <th>1313</th>\n",
       "      <td>ASTON MARTIN</td>\n",
       "      <td>aston martin dbx 2021</td>\n",
       "      <td>229000.0</td>\n",
       "    </tr>\n",
       "    <tr>\n",
       "      <th>1208</th>\n",
       "      <td>AUDI</td>\n",
       "      <td>audi rs 6 2024</td>\n",
       "      <td>220000.0</td>\n",
       "    </tr>\n",
       "    <tr>\n",
       "      <th>3708</th>\n",
       "      <td>AUSTIN</td>\n",
       "      <td>austin mini cooper 1970</td>\n",
       "      <td>1.0</td>\n",
       "    </tr>\n",
       "    <tr>\n",
       "      <th>2317</th>\n",
       "      <td>BAIC</td>\n",
       "      <td>baic x55 2021</td>\n",
       "      <td>12800.0</td>\n",
       "    </tr>\n",
       "  </tbody>\n",
       "</table>\n",
       "</div>"
      ],
      "text/plain": [
       "        item_brand                item_name  item_price\n",
       "1362    ALFA-ROMEO      alfa-romeo 147 2006      8500.0\n",
       "1313  ASTON MARTIN    aston martin dbx 2021    229000.0\n",
       "1208          AUDI           audi rs 6 2024    220000.0\n",
       "3708        AUSTIN  austin mini cooper 1970         1.0\n",
       "2317          BAIC            baic x55 2021     12800.0"
      ]
     },
     "execution_count": 11,
     "metadata": {},
     "output_type": "execute_result"
    }
   ],
   "source": [
    "# Solución\n",
    "# Usaremos los métodos idxmax y idxmin para encontrar el indice de filas que requerimos\n",
    "max_price = df1.loc[df1.groupby('item_brand')['item_price'].idxmax()][['item_brand', 'item_name', 'item_price']]\n",
    "min_price = df1.loc[df1.groupby('item_brand')['item_price'].idxmin()][['item_brand', 'item_name', 'item_price']]\n",
    "min_price.head()\n",
    "max_price.head()"
   ]
  },
  {
   "cell_type": "markdown",
   "metadata": {},
   "source": [
    "4. Encuentra las tres marcas con mayor número de autos financiados por Santander (`item_financed_by`). "
   ]
  },
  {
   "cell_type": "code",
   "execution_count": 12,
   "metadata": {},
   "outputs": [
    {
     "data": {
      "text/html": [
       "<div>\n",
       "<style scoped>\n",
       "    .dataframe tbody tr th:only-of-type {\n",
       "        vertical-align: middle;\n",
       "    }\n",
       "\n",
       "    .dataframe tbody tr th {\n",
       "        vertical-align: top;\n",
       "    }\n",
       "\n",
       "    .dataframe thead th {\n",
       "        text-align: right;\n",
       "    }\n",
       "</style>\n",
       "<table border=\"1\" class=\"dataframe\">\n",
       "  <thead>\n",
       "    <tr style=\"text-align: right;\">\n",
       "      <th></th>\n",
       "      <th>item_brand</th>\n",
       "      <th>count</th>\n",
       "    </tr>\n",
       "  </thead>\n",
       "  <tbody>\n",
       "    <tr>\n",
       "      <th>0</th>\n",
       "      <td>BMW</td>\n",
       "      <td>296</td>\n",
       "    </tr>\n",
       "    <tr>\n",
       "      <th>1</th>\n",
       "      <td>TOYOTA</td>\n",
       "      <td>261</td>\n",
       "    </tr>\n",
       "    <tr>\n",
       "      <th>2</th>\n",
       "      <td>NISSAN</td>\n",
       "      <td>228</td>\n",
       "    </tr>\n",
       "  </tbody>\n",
       "</table>\n",
       "</div>"
      ],
      "text/plain": [
       "  item_brand  count\n",
       "0        BMW    296\n",
       "1     TOYOTA    261\n",
       "2     NISSAN    228"
      ]
     },
     "execution_count": 12,
     "metadata": {},
     "output_type": "execute_result"
    }
   ],
   "source": [
    "# Solución\n",
    "santander_financed = df1[df1['item_financed_by'] == 'Santander']\n",
    "# Usamos value_counts() para las marcas por autos Santader\n",
    "# Luego usamos head(3) para quedarnos con los 3 más altos\n",
    "# Terminamos con reset_index() para convertir en un dataframe\n",
    "financed_brands = santander_financed['item_brand'].value_counts().head(3).reset_index()\n",
    "financed_brands.columns = ['item_brand', 'count'] #filtramos las dos columnas \n",
    "financed_brands\n",
    "# Las 3 marcas con mayor financiamientpo por Santander son BMW, TOYOTA y NISSAN"
   ]
  },
  {
   "cell_type": "markdown",
   "metadata": {},
   "source": [
    "5. Agrupa las publicaciones por tipo de transmisión (`item_transmission`) y calcula la desviación estándar del precio (`item_price`) para cada tipo.  "
   ]
  },
  {
   "cell_type": "code",
   "execution_count": 89,
   "metadata": {},
   "outputs": [
    {
     "data": {
      "text/html": [
       "<div>\n",
       "<style scoped>\n",
       "    .dataframe tbody tr th:only-of-type {\n",
       "        vertical-align: middle;\n",
       "    }\n",
       "\n",
       "    .dataframe tbody tr th {\n",
       "        vertical-align: top;\n",
       "    }\n",
       "\n",
       "    .dataframe thead th {\n",
       "        text-align: right;\n",
       "    }\n",
       "</style>\n",
       "<table border=\"1\" class=\"dataframe\">\n",
       "  <thead>\n",
       "    <tr style=\"text-align: right;\">\n",
       "      <th></th>\n",
       "      <th>item_transmission</th>\n",
       "      <th>item_price</th>\n",
       "    </tr>\n",
       "  </thead>\n",
       "  <tbody>\n",
       "    <tr>\n",
       "      <th>0</th>\n",
       "      <td>Automática</td>\n",
       "      <td>15332.729048</td>\n",
       "    </tr>\n",
       "    <tr>\n",
       "      <th>1</th>\n",
       "      <td>Automática - Secuencial</td>\n",
       "      <td>22678.641589</td>\n",
       "    </tr>\n",
       "    <tr>\n",
       "      <th>2</th>\n",
       "      <td>Mecánica</td>\n",
       "      <td>8137.122127</td>\n",
       "    </tr>\n",
       "  </tbody>\n",
       "</table>\n",
       "</div>"
      ],
      "text/plain": [
       "         item_transmission    item_price\n",
       "0               Automática  15332.729048\n",
       "1  Automática - Secuencial  22678.641589\n",
       "2                 Mecánica   8137.122127"
      ]
     },
     "execution_count": 89,
     "metadata": {},
     "output_type": "execute_result"
    }
   ],
   "source": [
    "# Solución\n",
    "transmission_std = df1.groupby('item_transmission')['item_price'].std().reset_index()\n",
    "transmission_std"
   ]
  },
  {
   "cell_type": "markdown",
   "metadata": {},
   "source": [
    "6. ¿Cuál es el kilometraje promedio de las publicaciones con el tag \"Premium\" y de las publicaciones con el tag \"Como nuevo\"?"
   ]
  },
  {
   "cell_type": "code",
   "execution_count": 55,
   "metadata": {},
   "outputs": [
    {
     "name": "stdout",
     "output_type": "stream",
     "text": [
      "Kilometraje promedio de publicaciones con el tag \"Premium\": 48400.24 \n",
      "Kilometraje promedio de publicaciones con el tag \"Como nuevo\": 35963.48\n"
     ]
    }
   ],
   "source": [
    "# Solución\n",
    "# Usamos str.contains para filtar el texto\n",
    "# También nos aseguramos que los valores faltantes no generen conflictos\n",
    "tag_premium = df1[df1['item_tag'].str.contains('Premium', na=False)]['item_km'].mean()\n",
    "tag_como_nuevo = df1[df1['item_tag'].str.contains('Como nuevo', na=False)]['item_km'].mean()\n",
    "print(f'Kilometraje promedio de publicaciones con el tag \"Premium\": {tag_premium:.2f}',\n",
    "      f'\\nKilometraje promedio de publicaciones con el tag \"Como nuevo\": {tag_como_nuevo:.2f}')"
   ]
  },
  {
   "cell_type": "markdown",
   "metadata": {},
   "source": [
    "7. ¿Cuáles son las marcas de vehículas para los que todos sus modelos fabricados en los últimos 5 años tienen al menos 5 publicaciones cada una?"
   ]
  },
  {
   "cell_type": "code",
   "execution_count": 5,
   "metadata": {},
   "outputs": [
    {
     "data": {
      "text/plain": [
       "array(['AUDI', 'BMW', 'CHEVROLET', 'DFSK', 'FIAT', 'FORD', 'HAVAL',\n",
       "       'HONDA', 'HYUNDAI', 'JEEP', 'KIA', 'MAZDA', 'MG', 'NISSAN',\n",
       "       'PEUGEOT', 'SUBARU', 'TOYOTA', 'VOLKSWAGEN', 'VOLVO'], dtype=object)"
      ]
     },
     "execution_count": 5,
     "metadata": {},
     "output_type": "execute_result"
    }
   ],
   "source": [
    "# Solución\n",
    "\n",
    "# Ordenamos los años con sorted y obtenemos solo valores únicos con unique()\n",
    "# Seleccionamos los 5 últimos años -> [-5:]\n",
    "last_5_years = sorted(df1['item_year'].unique())[-5:]\n",
    "# Los últimos 5 años fueron 2021 - 2025\n",
    "\n",
    "# Filtamos las publicaciones dentro del rango de años con .isin\n",
    "df_last_5y = df1[df1['item_year'].isin(last_5_years)]\n",
    "\n",
    "# Contamos con size() las filas agrupadas por marca y modelo y convertimos en dataframe\n",
    "count = df_last_5y.groupby(['item_brand', 'item_name']).size().reset_index(name='count')\n",
    "\n",
    "# Filtramos las publicaciones con al menos 5 \n",
    "df_last_5y_filt= count[count['count'] >= 5]\n",
    "\n",
    "# Extraemos con unique cuantas marcar cumplen con la condicion\n",
    "list_models = df_last_5y_filt['item_brand'].unique()\n",
    "list_models\n"
   ]
  },
  {
   "cell_type": "markdown",
   "metadata": {},
   "source": [
    "## **Evolución económica internacional**"
   ]
  },
  {
   "cell_type": "markdown",
   "metadata": {},
   "source": [
    "Importa el conjunto de datos de la hoja \"Data\" del archivo `pwt1001.xlsx`. El diccionario de variables está disponible en la hoja \"Legend\" del archivo Excel.\n",
    "    "
   ]
  },
  {
   "cell_type": "markdown",
   "metadata": {},
   "source": [
    "1. Calcule el PBI per cápita real ajustado por poder de paridad de compra (PPP). Use la variable de PBI que se calcula por gasto y la población. ¿Cuáles son los 10 países top?"
   ]
  },
  {
   "cell_type": "code",
   "execution_count": 58,
   "metadata": {},
   "outputs": [
    {
     "data": {
      "text/plain": [
       "country\n",
       "United Arab Emirates    283541.174514\n",
       "Brunei Darussalam       177110.647137\n",
       "Qatar                   166520.481283\n",
       "China, Macao SAR        139886.741131\n",
       "Luxembourg              112941.453342\n",
       "Ireland                 102353.631443\n",
       "Kuwait                   92274.389648\n",
       "Singapore                89339.024418\n",
       "Cayman Islands           89133.468875\n",
       "Bermuda                  79967.588736\n",
       "Name: PBI_per_capita, dtype: float64"
      ]
     },
     "execution_count": 58,
     "metadata": {},
     "output_type": "execute_result"
    }
   ],
   "source": [
    "# Solución\n",
    "import pandas as pd\n",
    "import numpy as np\n",
    "\n",
    "# Importar los datos\n",
    "data = pd.read_excel('pwt1001.xlsx', sheet_name='Data')\n",
    "legend = pd.read_excel('pwt1001.xlsx', sheet_name='Legend')\n",
    "# Usamos 'rdgpe' = Expenditure-side real GDP at chained PPPs (in mil. 2017US$)\n",
    "data[\"PBI_per_capita\"] = data[\"rgdpe\"] / data[\"pop\"]\n",
    "top_10_countries = data.groupby('country')['PBI_per_capita'].max().sort_values(ascending=False).head(10)\n",
    "# Agrupamkos por pais y con el método max encontramos los valores más altos de 'rdgpe'\n",
    "# Ordenamos de manera descendente con .sort_values()\n",
    "top_10_countries\n"
   ]
  },
  {
   "cell_type": "markdown",
   "metadata": {},
   "source": [
    "2. Genera el ránking de los países con el mayor incremento del PBI per cápita real PPP entre los años 1990 y 2019. ¿Dónde se ubica Perú? Para los países que no tengan información para dichos años, puede utilizar datos provenientes de hasta dos años antes o después"
   ]
  },
  {
   "cell_type": "code",
   "execution_count": 59,
   "metadata": {},
   "outputs": [
    {
     "name": "stdout",
     "output_type": "stream",
     "text": [
      "TOP 10 MAYORES INCREMENTOS DE PBI PER CÁPITA REAL PPP country\n",
      "Equatorial Guinea         10.071907\n",
      "Bosnia and Herzegovina     8.297538\n",
      "El Salvador                5.742178\n",
      "Myanmar                    5.217009\n",
      "Nigeria                    5.062333\n",
      "Lao People's DR            4.768618\n",
      "China                      4.374250\n",
      "Viet Nam                   4.271733\n",
      "Ireland                    3.882223\n",
      "Egypt                      3.674072\n",
      "Name: PBI_per_capita, dtype: float64\n",
      "Perú se encuentra en el puesto 34 del ranking de crecimiento del PBI per cápita (1990-2019).\n"
     ]
    }
   ],
   "source": [
    "# Solución\n",
    "#Usamos el operador lógico para combinar las condiciones de filtrado de 'year'\n",
    "data_filt = data[(data['year'] >= 1988) & (data['year'] <= 2019)] # No hay datos después de 2019\n",
    "data_1990 = data_filt[(data_filt['year'] >= 1988) & (data_filt[ # Filtramos los años de 1988 a 1992\n",
    "    'year'] <= 1992)].groupby('country')['PBI_per_capita'].mean() # Sacamos la media de 'rgdpe'\n",
    "data_2019 = data_filt[(data_filt['year'] >= 2017) & (data_filt[ # Filtramos los años de 2017 a 2019\n",
    "    'year'] <= 2019)].groupby('country')['PBI_per_capita'].mean() # Sacamos la media de 'rgdpe'\n",
    "# Calculamos el crecimiento/decrecimiento de PBI eliminando valores nulos con dropna()\n",
    "gdp_change = ((data_2019 - data_1990) / data_1990).dropna().sort_values(ascending=False)\n",
    "\n",
    "# TOP 10 MAYORES INCREMENTOS DE PBI PER CÁPITA REAL PPP\n",
    "print(\"TOP 10 MAYORES INCREMENTOS DE PBI PER CÁPITA REAL PPP\", gdp_change.head(10))\n",
    "\n",
    "# Filtramos con query las columna de 'country' = 'Peru'\n",
    "peru_rank = gdp_change.reset_index().query(\"country == 'Peru'\").index[0] + 1 #El indice empezará en 1\n",
    "print(f\"Perú se encuentra en el puesto {peru_rank} del ranking de crecimiento del PBI per cápita (1990-2019).\")\n"
   ]
  },
  {
   "cell_type": "markdown",
   "metadata": {},
   "source": [
    "3. Para el periodo 2010-2019, calcule el promedio del índice del capital humano. ¿Qué relación existe entre esta variable y el PBI per cápita real PPP calculado previamente? ¿y el número de horas laboradas al año por los trabajadores?"
   ]
  },
  {
   "cell_type": "code",
   "execution_count": 14,
   "metadata": {},
   "outputs": [
    {
     "name": "stdout",
     "output_type": "stream",
     "text": [
      "La correlación entre el índice de capital humano y el PBI per cápita es 0.19.\n",
      "La correlación entre el índice de capital humano y las horas trabajadas es -0.58.\n"
     ]
    }
   ],
   "source": [
    "# Solución\n",
    "\n",
    "# Filtramos el periodo de años 2010 - 2019\n",
    "data_2010_2019 = data[(data['year'] >= 2010) & (data['year'] <= 2019)]\n",
    "\n",
    "# Calculamos los promedios\n",
    "hc_avg = data_2010_2019.groupby('country')['hc'].mean() # Indice de capital humano  \n",
    "pib_avg = data_2010_2019.groupby('country')['rgdpe'].mean() # PBI per cápita real PPP\n",
    "avh_avg = data_2010_2019.groupby('country')['avh'].mean() # Horas laboradas al año por trabajadores\n",
    "\n",
    "correlation_hc_pib = hc_avg.corr(pib_avg) # Vemos que tiene una relación positiva\n",
    "correlation_hc_avh = hc_avg.corr(avh_avg) # Vemos que tiene una relación negativa\n",
    "\n",
    "print(f\"La correlación entre el índice de capital humano y el PBI per cápita es {correlation_hc_pib:.2f}.\")\n",
    "print(f\"La correlación entre el índice de capital humano y las horas trabajadas es {correlation_hc_avh:.2f}.\")\n"
   ]
  },
  {
   "cell_type": "markdown",
   "metadata": {},
   "source": [
    "4. A partir de la variable del precio de los hogares, calcula los países y los años en los cuales se registró la mayor inflación anual para todo el periodo de tiempo disponible en la base de datos"
   ]
  },
  {
   "cell_type": "code",
   "execution_count": 60,
   "metadata": {},
   "outputs": [
    {
     "name": "stdout",
     "output_type": "stream",
     "text": [
      "PAÍSES CON MAYOR INFLACIÓN ANUAL:\n"
     ]
    },
    {
     "name": "stderr",
     "output_type": "stream",
     "text": [
      "C:\\Users\\user\\AppData\\Local\\Temp\\ipykernel_8676\\1588948605.py:7: FutureWarning: The default fill_method='ffill' in SeriesGroupBy.pct_change is deprecated and will be removed in a future version. Either fill in any non-leading NA values prior to calling pct_change or specify 'fill_method=None' to not fill NA values.\n",
      "  data['inflation'] = data.groupby('country')['pl_c'].pct_change() * 100\n"
     ]
    },
    {
     "data": {
      "text/html": [
       "<div>\n",
       "<style scoped>\n",
       "    .dataframe tbody tr th:only-of-type {\n",
       "        vertical-align: middle;\n",
       "    }\n",
       "\n",
       "    .dataframe tbody tr th {\n",
       "        vertical-align: top;\n",
       "    }\n",
       "\n",
       "    .dataframe thead th {\n",
       "        text-align: right;\n",
       "    }\n",
       "</style>\n",
       "<table border=\"1\" class=\"dataframe\">\n",
       "  <thead>\n",
       "    <tr style=\"text-align: right;\">\n",
       "      <th></th>\n",
       "      <th>country</th>\n",
       "      <th>year</th>\n",
       "      <th>inflation</th>\n",
       "    </tr>\n",
       "  </thead>\n",
       "  <tbody>\n",
       "    <tr>\n",
       "      <th>12387</th>\n",
       "      <td>Venezuela (Bolivarian Republic of)</td>\n",
       "      <td>2017</td>\n",
       "      <td>355.748049</td>\n",
       "    </tr>\n",
       "    <tr>\n",
       "      <th>12795</th>\n",
       "      <td>Zimbabwe</td>\n",
       "      <td>2005</td>\n",
       "      <td>281.705724</td>\n",
       "    </tr>\n",
       "    <tr>\n",
       "      <th>4742</th>\n",
       "      <td>Equatorial Guinea</td>\n",
       "      <td>2002</td>\n",
       "      <td>278.866183</td>\n",
       "    </tr>\n",
       "    <tr>\n",
       "      <th>1850</th>\n",
       "      <td>Brunei Darussalam</td>\n",
       "      <td>1980</td>\n",
       "      <td>265.190719</td>\n",
       "    </tr>\n",
       "    <tr>\n",
       "      <th>8201</th>\n",
       "      <td>Mauritania</td>\n",
       "      <td>1961</td>\n",
       "      <td>235.565319</td>\n",
       "    </tr>\n",
       "    <tr>\n",
       "      <th>11034</th>\n",
       "      <td>Seychelles</td>\n",
       "      <td>1994</td>\n",
       "      <td>226.327482</td>\n",
       "    </tr>\n",
       "    <tr>\n",
       "      <th>10034</th>\n",
       "      <td>Saudi Arabia</td>\n",
       "      <td>1974</td>\n",
       "      <td>147.961250</td>\n",
       "    </tr>\n",
       "    <tr>\n",
       "      <th>119</th>\n",
       "      <td>Angola</td>\n",
       "      <td>1999</td>\n",
       "      <td>144.032916</td>\n",
       "    </tr>\n",
       "    <tr>\n",
       "      <th>304</th>\n",
       "      <td>United Arab Emirates</td>\n",
       "      <td>1974</td>\n",
       "      <td>140.988488</td>\n",
       "    </tr>\n",
       "    <tr>\n",
       "      <th>6758</th>\n",
       "      <td>Lebanon</td>\n",
       "      <td>1988</td>\n",
       "      <td>121.297922</td>\n",
       "    </tr>\n",
       "  </tbody>\n",
       "</table>\n",
       "</div>"
      ],
      "text/plain": [
       "                                  country  year   inflation\n",
       "12387  Venezuela (Bolivarian Republic of)  2017  355.748049\n",
       "12795                            Zimbabwe  2005  281.705724\n",
       "4742                    Equatorial Guinea  2002  278.866183\n",
       "1850                    Brunei Darussalam  1980  265.190719\n",
       "8201                           Mauritania  1961  235.565319\n",
       "11034                          Seychelles  1994  226.327482\n",
       "10034                        Saudi Arabia  1974  147.961250\n",
       "119                                Angola  1999  144.032916\n",
       "304                  United Arab Emirates  1974  140.988488\n",
       "6758                              Lebanon  1988  121.297922"
      ]
     },
     "execution_count": 60,
     "metadata": {},
     "output_type": "execute_result"
    }
   ],
   "source": [
    "# Solución\n",
    "\n",
    "data = data.sort_values(['country', 'year'])\n",
    "# Calculamos la inflación porcentual anual con pct_change\n",
    "# pct_change => tasa de cambio = (valor final - valor inicial) / valor inicial \n",
    "# pl_c = nivel de precios del consumo de los hogares\n",
    "data['inflation'] = data.groupby('country')['pl_c'].pct_change() * 100\n",
    "\n",
    "# Filtarmos la data con .idmax() el valor máximo de inflación por país\n",
    "max_inflation_df = data.loc[data.groupby('country')['inflation'].idxmax()]\n",
    "# Nos quedamos con las columnas necesarias\n",
    "max_inflation = max_inflation_df[['country', 'year', 'inflation']].sort_values(by='inflation', ascending=False).head(10)\n",
    "print(\"PAÍSES CON MAYOR INFLACIÓN ANUAL:\")\n",
    "max_inflation.head(10)"
   ]
  },
  {
   "cell_type": "markdown",
   "metadata": {},
   "source": [
    "5. ¿Cuáles son los países con la mayor cantidad de missing values en la variable de productividad total de factores a precios corrientes?"
   ]
  },
  {
   "cell_type": "code",
   "execution_count": 30,
   "metadata": {},
   "outputs": [
    {
     "data": {
      "text/plain": [
       "country\n",
       "Albania                           70\n",
       "Turkmenistan                      70\n",
       "Sint Maarten (Dutch part)         70\n",
       "Grenada                           70\n",
       "Ghana                             70\n",
       "Georgia                           70\n",
       "Gambia                            70\n",
       "St. Vincent and the Grenadines    70\n",
       "Pakistan                          70\n",
       "Ethiopia                          70\n",
       "Name: ctfp, dtype: int64"
      ]
     },
     "execution_count": 30,
     "metadata": {},
     "output_type": "execute_result"
    }
   ],
   "source": [
    "# Solución\n",
    "\n",
    "# Vemos que filas son nulas con .isnull = truq\n",
    "# Agrupamos por país para sumar los missings values con .groupby()\n",
    "# Por último ordenamos de manera descendente con .sort_values()\n",
    "tfp_missing = data['ctfp'].isnull().groupby(data['country']).sum().sort_values(ascending=False)\n",
    "tfp_missing.head(10)"
   ]
  },
  {
   "cell_type": "markdown",
   "metadata": {},
   "source": [
    "6.  Agrupa los datos por país y calcula el promedio de las horas trabajadas anuales (avh) y de la educación promedio (hc) para el periodo 2000-2020."
   ]
  },
  {
   "cell_type": "code",
   "execution_count": null,
   "metadata": {},
   "outputs": [
    {
     "data": {
      "text/html": [
       "<div>\n",
       "<style scoped>\n",
       "    .dataframe tbody tr th:only-of-type {\n",
       "        vertical-align: middle;\n",
       "    }\n",
       "\n",
       "    .dataframe tbody tr th {\n",
       "        vertical-align: top;\n",
       "    }\n",
       "\n",
       "    .dataframe thead th {\n",
       "        text-align: right;\n",
       "    }\n",
       "</style>\n",
       "<table border=\"1\" class=\"dataframe\">\n",
       "  <thead>\n",
       "    <tr style=\"text-align: right;\">\n",
       "      <th></th>\n",
       "      <th>avh</th>\n",
       "      <th>hc</th>\n",
       "    </tr>\n",
       "    <tr>\n",
       "      <th>country</th>\n",
       "      <th></th>\n",
       "      <th></th>\n",
       "    </tr>\n",
       "  </thead>\n",
       "  <tbody>\n",
       "    <tr>\n",
       "      <th>Argentina</th>\n",
       "      <td>1710.245679</td>\n",
       "      <td>2.912099</td>\n",
       "    </tr>\n",
       "    <tr>\n",
       "      <th>Brazil</th>\n",
       "      <td>1744.427826</td>\n",
       "      <td>2.689499</td>\n",
       "    </tr>\n",
       "    <tr>\n",
       "      <th>Bulgaria</th>\n",
       "      <td>1645.864795</td>\n",
       "      <td>3.111198</td>\n",
       "    </tr>\n",
       "    <tr>\n",
       "      <th>Chile</th>\n",
       "      <td>2018.625000</td>\n",
       "      <td>3.030720</td>\n",
       "    </tr>\n",
       "    <tr>\n",
       "      <th>China</th>\n",
       "      <td>2177.381241</td>\n",
       "      <td>2.546620</td>\n",
       "    </tr>\n",
       "    <tr>\n",
       "      <th>Colombia</th>\n",
       "      <td>2004.691400</td>\n",
       "      <td>2.459824</td>\n",
       "    </tr>\n",
       "    <tr>\n",
       "      <th>Costa Rica</th>\n",
       "      <td>2197.022062</td>\n",
       "      <td>2.603270</td>\n",
       "    </tr>\n",
       "    <tr>\n",
       "      <th>Croatia</th>\n",
       "      <td>1884.746259</td>\n",
       "      <td>3.350156</td>\n",
       "    </tr>\n",
       "    <tr>\n",
       "      <th>Dominican Republic</th>\n",
       "      <td>2138.178469</td>\n",
       "      <td>2.591269</td>\n",
       "    </tr>\n",
       "    <tr>\n",
       "      <th>Ecuador</th>\n",
       "      <td>1655.268485</td>\n",
       "      <td>2.713396</td>\n",
       "    </tr>\n",
       "  </tbody>\n",
       "</table>\n",
       "</div>"
      ],
      "text/plain": [
       "                            avh        hc\n",
       "country                                  \n",
       "Argentina           1710.245679  2.912099\n",
       "Brazil              1744.427826  2.689499\n",
       "Bulgaria            1645.864795  3.111198\n",
       "Chile               2018.625000  3.030720\n",
       "China               2177.381241  2.546620\n",
       "Colombia            2004.691400  2.459824\n",
       "Costa Rica          2197.022062  2.603270\n",
       "Croatia             1884.746259  3.350156\n",
       "Dominican Republic  2138.178469  2.591269\n",
       "Ecuador             1655.268485  2.713396"
      ]
     },
     "execution_count": 33,
     "metadata": {},
     "output_type": "execute_result"
    }
   ],
   "source": [
    "# Solución\n",
    "# Filtramos la data entre los años 2000 - 2020 \n",
    "# Eliminamos los missings values con .dropna()\n",
    "data_2000_2020 = data[(data['year'] >= 2000) & (data['year'] <= 2020)].dropna()\n",
    "# Calculamos el promedio de avh y hc  agrupado por país\n",
    "avh_hc_avg = data_2000_2020.groupby('country')[['avh', 'hc']].mean()\n",
    "avh_hc_avg.head(10)\n"
   ]
  },
  {
   "cell_type": "markdown",
   "metadata": {},
   "source": [
    "7.  Genere una variable que ordene a los países según el porcetaje de formación brutal de capital del 2019. Luego, estable diez grupos a manera de deciles. ¿En qué decil se ubica Péru? Vuelva a calcular usando la información de 1990. ¿El Perú se mantiene en el mismo décil o cambia?"
   ]
  },
  {
   "cell_type": "code",
   "execution_count": 133,
   "metadata": {},
   "outputs": [
    {
     "name": "stdout",
     "output_type": "stream",
     "text": [
      "\n",
      "Decil de Perú en 2019: 5, en 1990: 4.0\n"
     ]
    }
   ],
   "source": [
    "# Solución\n",
    "\n",
    "# Dividimos la data en dos periodos solamente generando una copia en cada uno\n",
    "data_2019 = data[data['year'] == 2019].copy()\n",
    "data_1990 = data[data['year'] == 1990].copy()\n",
    "\n",
    "# Usaremos csh_i = Share of gross capital formation at current PPPs\n",
    "# Dividimos en deciles con qcut(x, 10) para clasificar los países en deciles\n",
    "data_2019['capital_formation_rank'] = pd.qcut(data_2019['csh_i'], 10, labels=False) + 1 # El índice empieza en 1\n",
    "data_1990['capital_formation_rank'] = pd.qcut(data_1990['csh_i'], 10, labels=False) + 1 # El índice empieza en 1\n",
    "\n",
    "# Filtramos el decil de Perú con .query()\n",
    "peru_decile_2019 = data_2019.query(\"country == 'Peru'\")['capital_formation_rank'].values[0]\n",
    "peru_decile_1990 = data_1990.query(\"country == 'Peru'\")['capital_formation_rank'].values[0]\n",
    "\n",
    "print(f\"\\nDecil de Perú en 2019: {peru_decile_2019}, en 1990: {peru_decile_1990}\")\n",
    "# Vemos que ha subido Perú 1 decil"
   ]
  },
  {
   "cell_type": "markdown",
   "metadata": {},
   "source": [
    "## **Transacciones Financieras**"
   ]
  },
  {
   "cell_type": "markdown",
   "metadata": {},
   "source": [
    "Importa el conjunto de datos `base_financiera.csv`"
   ]
  },
  {
   "cell_type": "markdown",
   "metadata": {},
   "source": [
    "8. Filtra todas las transacciones de tipo \"Debit\" en las que el monto sea mayor a 200, y calcula el monto total de esas transacciones. Además, determina cuántos clientes únicos realizaron esas transacciones."
   ]
  },
  {
   "cell_type": "code",
   "execution_count": 35,
   "metadata": {},
   "outputs": [
    {
     "name": "stdout",
     "output_type": "stream",
     "text": [
      "Monto total de transacciones tipo débito y mayores a 200: 2847871.75\n",
      "Total de clientes únicos que realizaron estas transacciones: 200\n"
     ]
    }
   ],
   "source": [
    "# Solución\n",
    "data3 = pd.read_csv('base_financiera.csv')\n",
    "\n",
    "# Filtramos con transacciones = débito y monto > 200\n",
    "filt_debit = data3[(data3['Transaction_Type'] == 'Debit') & (data3['Amount'] > 200)]\n",
    "# Calculamos el monto total de las transacciones usando .sum() a toda la columna 'Amount'\n",
    "total_amount_debit = filt_debit['Amount'].sum()\n",
    "# cON nunique() contamos los valores unicos de 'Customer_ID'\n",
    "customers_debit = filt_debit['Customer_ID'].nunique()\n",
    "print(\"Monto total de transacciones tipo débito y mayores a 200:\", total_amount_debit)\n",
    "print(\"Total de clientes únicos que realizaron estas transacciones:\", customers_debit)\n"
   ]
  },
  {
   "cell_type": "markdown",
   "metadata": {},
   "source": [
    "9. Identifica las transacciones con valores nulos en la columna (`Amount`) . Rellena esos valores con la mediana de los montos por tipo de transacción (`Transaction_Type`) y luego calcula el monto total de transacciones por región (`region`) ."
   ]
  },
  {
   "cell_type": "code",
   "execution_count": 41,
   "metadata": {},
   "outputs": [
    {
     "name": "stdout",
     "output_type": "stream",
     "text": [
      "\n",
      "Monto total de transacciones por región:\n",
      "\n"
     ]
    },
    {
     "data": {
      "text/plain": [
       "Region\n",
       "East     1269409.53\n",
       "North    1321224.96\n",
       "South    1208300.23\n",
       "West     1233552.50\n",
       "Name: Amount, dtype: float64"
      ]
     },
     "execution_count": 41,
     "metadata": {},
     "output_type": "execute_result"
    }
   ],
   "source": [
    "# Solución\n",
    "\n",
    "# Calculamos la mediana de los montos por tipo de transacción y almacenamos en median_tr\n",
    "median_tr = data3.groupby('Transaction_Type')['Amount'].transform('median')\n",
    "# Llenamos con .fillna() las medianas calculadas antes\n",
    "data3['Amount'] = data3['Amount'].fillna(median_tr)\n",
    "# Suma de total del monto de transacciones por region después de haber llenado los missings\n",
    "total_region_amount = data3.groupby('Region')['Amount'].sum()\n",
    "print(\"\\nMonto total de transacciones por región:\\n\")\n",
    "total_region_amount"
   ]
  },
  {
   "cell_type": "markdown",
   "metadata": {},
   "source": [
    "10. Busca transacciones duplicadas considerando las columnas (`Customer_ID`) y (`Date`). Elimina los duplicados manteniendo solo la primera ocurrencia. Luego, agrupa las transacciones restantes por (`Customer_ID`) y calcula el monto promedio y la cantidad de transacciones por cliente."
   ]
  },
  {
   "cell_type": "code",
   "execution_count": 47,
   "metadata": {},
   "outputs": [
    {
     "name": "stdout",
     "output_type": "stream",
     "text": [
      "\n",
      "Estadísticas por cliente tras limpiar duplicados:\n",
      "\n"
     ]
    },
    {
     "data": {
      "text/html": [
       "<div>\n",
       "<style scoped>\n",
       "    .dataframe tbody tr th:only-of-type {\n",
       "        vertical-align: middle;\n",
       "    }\n",
       "\n",
       "    .dataframe tbody tr th {\n",
       "        vertical-align: top;\n",
       "    }\n",
       "\n",
       "    .dataframe thead th {\n",
       "        text-align: right;\n",
       "    }\n",
       "</style>\n",
       "<table border=\"1\" class=\"dataframe\">\n",
       "  <thead>\n",
       "    <tr style=\"text-align: right;\">\n",
       "      <th></th>\n",
       "      <th>Customer_ID</th>\n",
       "      <th>average_amount</th>\n",
       "      <th>transaction_count</th>\n",
       "    </tr>\n",
       "  </thead>\n",
       "  <tbody>\n",
       "    <tr>\n",
       "      <th>0</th>\n",
       "      <td>C001</td>\n",
       "      <td>3283.319412</td>\n",
       "      <td>17</td>\n",
       "    </tr>\n",
       "    <tr>\n",
       "      <th>1</th>\n",
       "      <td>C002</td>\n",
       "      <td>1881.827778</td>\n",
       "      <td>9</td>\n",
       "    </tr>\n",
       "    <tr>\n",
       "      <th>2</th>\n",
       "      <td>C003</td>\n",
       "      <td>3102.125000</td>\n",
       "      <td>14</td>\n",
       "    </tr>\n",
       "    <tr>\n",
       "      <th>3</th>\n",
       "      <td>C004</td>\n",
       "      <td>2879.267143</td>\n",
       "      <td>7</td>\n",
       "    </tr>\n",
       "    <tr>\n",
       "      <th>4</th>\n",
       "      <td>C005</td>\n",
       "      <td>3364.053333</td>\n",
       "      <td>6</td>\n",
       "    </tr>\n",
       "    <tr>\n",
       "      <th>...</th>\n",
       "      <td>...</td>\n",
       "      <td>...</td>\n",
       "      <td>...</td>\n",
       "    </tr>\n",
       "    <tr>\n",
       "      <th>195</th>\n",
       "      <td>C196</td>\n",
       "      <td>2566.555000</td>\n",
       "      <td>10</td>\n",
       "    </tr>\n",
       "    <tr>\n",
       "      <th>196</th>\n",
       "      <td>C197</td>\n",
       "      <td>2530.674286</td>\n",
       "      <td>14</td>\n",
       "    </tr>\n",
       "    <tr>\n",
       "      <th>197</th>\n",
       "      <td>C198</td>\n",
       "      <td>2484.925000</td>\n",
       "      <td>12</td>\n",
       "    </tr>\n",
       "    <tr>\n",
       "      <th>198</th>\n",
       "      <td>C199</td>\n",
       "      <td>2942.038000</td>\n",
       "      <td>5</td>\n",
       "    </tr>\n",
       "    <tr>\n",
       "      <th>199</th>\n",
       "      <td>C200</td>\n",
       "      <td>2196.990000</td>\n",
       "      <td>5</td>\n",
       "    </tr>\n",
       "  </tbody>\n",
       "</table>\n",
       "<p>200 rows × 3 columns</p>\n",
       "</div>"
      ],
      "text/plain": [
       "    Customer_ID  average_amount  transaction_count\n",
       "0          C001     3283.319412                 17\n",
       "1          C002     1881.827778                  9\n",
       "2          C003     3102.125000                 14\n",
       "3          C004     2879.267143                  7\n",
       "4          C005     3364.053333                  6\n",
       "..          ...             ...                ...\n",
       "195        C196     2566.555000                 10\n",
       "196        C197     2530.674286                 14\n",
       "197        C198     2484.925000                 12\n",
       "198        C199     2942.038000                  5\n",
       "199        C200     2196.990000                  5\n",
       "\n",
       "[200 rows x 3 columns]"
      ]
     },
     "execution_count": 47,
     "metadata": {},
     "output_type": "execute_result"
    }
   ],
   "source": [
    "# Solución\n",
    "\n",
    "# Identificamos las transacciones duplicadas (mismo Customer_ID y Date)\n",
    "# Marcamos como True = fila duplicada excepto la primera ocurrencia\n",
    "duplicates = data3.duplicated(subset=['Customer_ID', 'Date'], keep='first')\n",
    "\n",
    "# Seleccionamos las filas donde duplicates = False\n",
    "data3_clean = data3[~duplicates]\n",
    "\n",
    "# Agrupamos por cliente y calculamos las estadísticas\n",
    "customer_stats = data3_clean.groupby('Customer_ID').agg(\n",
    "    average_amount=('Amount', 'mean'), # Promedio de transacciones por cliente\n",
    "    transaction_count=('Amount', 'count') # Número de transacciones por cliente\n",
    ").reset_index() # El indice del resultado \n",
    "print(\"\\nEstadísticas por cliente tras limpiar duplicados:\\n\")\n",
    "customer_stats\n",
    "\n"
   ]
  }
 ],
 "metadata": {
  "hide_input": false,
  "kernelspec": {
   "display_name": "Python 3",
   "language": "python",
   "name": "python3"
  },
  "language_info": {
   "codemirror_mode": {
    "name": "ipython",
    "version": 3
   },
   "file_extension": ".py",
   "mimetype": "text/x-python",
   "name": "python",
   "nbconvert_exporter": "python",
   "pygments_lexer": "ipython3",
   "version": "3.10.0"
  },
  "toc": {
   "base_numbering": 1,
   "nav_menu": {},
   "number_sections": true,
   "sideBar": true,
   "skip_h1_title": false,
   "title_cell": "Table of Contents",
   "title_sidebar": "Contents",
   "toc_cell": false,
   "toc_position": {},
   "toc_section_display": true,
   "toc_window_display": false
  }
 },
 "nbformat": 4,
 "nbformat_minor": 4
}
