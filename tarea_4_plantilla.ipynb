{
 "cells": [
  {
   "cell_type": "markdown",
   "metadata": {},
   "source": [
    "# **Tarea Nº 4**"
   ]
  },
  {
   "cell_type": "markdown",
   "metadata": {},
   "source": [
    "- Fecha y hora de entrega: Domingo 12 de enero, 11:59pm\n",
    "- Agregue los nombres de las personas con las que discutió esta tarea: __Leydi Chipana__\n",
    "- Envíe su tarea haciendo el `push` de su código a su repo en GitHub Classroom: "
   ]
  },
  {
   "cell_type": "markdown",
   "metadata": {},
   "source": [
    "## **Mercado de autos usados**"
   ]
  },
  {
   "cell_type": "markdown",
   "metadata": {},
   "source": [
    "Importa el conjunto de datos `neoauto_20240924.csv`\n",
    "    "
   ]
  },
  {
   "cell_type": "markdown",
   "metadata": {},
   "source": [
    "1. ¿Cuál es el precio promedio de los autos de cada marca (`item_brand`) publicados en cada subcategoría (`item_category_2`)?"
   ]
  },
  {
   "cell_type": "code",
   "execution_count": 5,
   "metadata": {},
   "outputs": [
    {
     "data": {
      "text/html": [
       "<div>\n",
       "<style scoped>\n",
       "    .dataframe tbody tr th:only-of-type {\n",
       "        vertical-align: middle;\n",
       "    }\n",
       "\n",
       "    .dataframe tbody tr th {\n",
       "        vertical-align: top;\n",
       "    }\n",
       "\n",
       "    .dataframe thead th {\n",
       "        text-align: right;\n",
       "    }\n",
       "</style>\n",
       "<table border=\"1\" class=\"dataframe\">\n",
       "  <thead>\n",
       "    <tr style=\"text-align: right;\">\n",
       "      <th></th>\n",
       "      <th></th>\n",
       "      <th>item_price</th>\n",
       "    </tr>\n",
       "    <tr>\n",
       "      <th>item_brand</th>\n",
       "      <th>item_category_2</th>\n",
       "      <th></th>\n",
       "    </tr>\n",
       "  </thead>\n",
       "  <tbody>\n",
       "    <tr>\n",
       "      <th rowspan=\"2\" valign=\"top\">ALFA-ROMEO</th>\n",
       "      <th>Hatchback</th>\n",
       "      <td>8500.000000</td>\n",
       "    </tr>\n",
       "    <tr>\n",
       "      <th>Sedan</th>\n",
       "      <td>2500.000000</td>\n",
       "    </tr>\n",
       "    <tr>\n",
       "      <th rowspan=\"3\" valign=\"top\">ASTON MARTIN</th>\n",
       "      <th>Camionetas Suv</th>\n",
       "      <td>229000.000000</td>\n",
       "    </tr>\n",
       "    <tr>\n",
       "      <th>Deportivo</th>\n",
       "      <td>169990.000000</td>\n",
       "    </tr>\n",
       "    <tr>\n",
       "      <th>Sedan</th>\n",
       "      <td>149900.000000</td>\n",
       "    </tr>\n",
       "    <tr>\n",
       "      <th>...</th>\n",
       "      <th>...</th>\n",
       "      <td>...</td>\n",
       "    </tr>\n",
       "    <tr>\n",
       "      <th rowspan=\"5\" valign=\"top\">VOLVO</th>\n",
       "      <th>Camionetas Suv</th>\n",
       "      <td>41801.707317</td>\n",
       "    </tr>\n",
       "    <tr>\n",
       "      <th>Deportivo</th>\n",
       "      <td>8800.000000</td>\n",
       "    </tr>\n",
       "    <tr>\n",
       "      <th>Hatchback</th>\n",
       "      <td>12772.500000</td>\n",
       "    </tr>\n",
       "    <tr>\n",
       "      <th>Sedan</th>\n",
       "      <td>11458.333333</td>\n",
       "    </tr>\n",
       "    <tr>\n",
       "      <th>Station Wagon</th>\n",
       "      <td>6100.000000</td>\n",
       "    </tr>\n",
       "  </tbody>\n",
       "</table>\n",
       "<p>202 rows × 1 columns</p>\n",
       "</div>"
      ],
      "text/plain": [
       "                                 item_price\n",
       "item_brand   item_category_2               \n",
       "ALFA-ROMEO   Hatchback          8500.000000\n",
       "             Sedan              2500.000000\n",
       "ASTON MARTIN Camionetas Suv   229000.000000\n",
       "             Deportivo        169990.000000\n",
       "             Sedan            149900.000000\n",
       "...                                     ...\n",
       "VOLVO        Camionetas Suv    41801.707317\n",
       "             Deportivo          8800.000000\n",
       "             Hatchback         12772.500000\n",
       "             Sedan             11458.333333\n",
       "             Station Wagon      6100.000000\n",
       "\n",
       "[202 rows x 1 columns]"
      ]
     },
     "execution_count": 5,
     "metadata": {},
     "output_type": "execute_result"
    }
   ],
   "source": [
    "# Solución\n",
    "\n",
    "import pandas as pd\n",
    "df1 = pd.read_csv('neoauto_20240924.csv')\n",
    "# Agrupamos las columnas 'item_brand' y 'item_category_2' en la nueva data average_price\n",
    "# Calculamos la medfia de item_price con .mean()\n",
    "average_price = df1.groupby( ['item_brand' , 'item_category_2' ])[['item_price']].mean()\n",
    "average_price\n",
    "# El precio promedio por marca y subcategoría se muestra en item_price"
   ]
  },
  {
   "cell_type": "markdown",
   "metadata": {},
   "source": [
    "2. ¿Cuántos autos tienen más de 100,000 kilómetros (`item_km`) pero un precio (`item_price`) menor al promedio general?"
   ]
  },
  {
   "cell_type": "code",
   "execution_count": 6,
   "metadata": {},
   "outputs": [
    {
     "name": "stdout",
     "output_type": "stream",
     "text": [
      "\n",
      "Número de autos con más de 100,000 km y precio menor al promedio general: 497\n"
     ]
    }
   ],
   "source": [
    "# Solución\n",
    "mean_price = df1['item_price'].mean()\n",
    "# Usamos el operador & para unir 2 filtrados\n",
    "df_km_price = df1[(df1['item_km'] > 100000) & (df1['item_price'] < mean_price)]\n",
    "# Shape nos da el número de filas o elementos\n",
    "print(\"\\nNúmero de autos con más de 100,000 km y precio menor al promedio general:\", df_km_price.shape[0])\n"
   ]
  },
  {
   "cell_type": "markdown",
   "metadata": {},
   "source": [
    "3. Encuentra el modelo (`item_name`) más caro y el más barato de cada marca (`item_brand`)."
   ]
  },
  {
   "cell_type": "code",
   "execution_count": 11,
   "metadata": {},
   "outputs": [
    {
     "data": {
      "text/html": [
       "<div>\n",
       "<style scoped>\n",
       "    .dataframe tbody tr th:only-of-type {\n",
       "        vertical-align: middle;\n",
       "    }\n",
       "\n",
       "    .dataframe tbody tr th {\n",
       "        vertical-align: top;\n",
       "    }\n",
       "\n",
       "    .dataframe thead th {\n",
       "        text-align: right;\n",
       "    }\n",
       "</style>\n",
       "<table border=\"1\" class=\"dataframe\">\n",
       "  <thead>\n",
       "    <tr style=\"text-align: right;\">\n",
       "      <th></th>\n",
       "      <th>item_brand</th>\n",
       "      <th>item_name</th>\n",
       "      <th>item_price</th>\n",
       "    </tr>\n",
       "  </thead>\n",
       "  <tbody>\n",
       "    <tr>\n",
       "      <th>1362</th>\n",
       "      <td>ALFA-ROMEO</td>\n",
       "      <td>alfa-romeo 147 2006</td>\n",
       "      <td>8500.0</td>\n",
       "    </tr>\n",
       "    <tr>\n",
       "      <th>1313</th>\n",
       "      <td>ASTON MARTIN</td>\n",
       "      <td>aston martin dbx 2021</td>\n",
       "      <td>229000.0</td>\n",
       "    </tr>\n",
       "    <tr>\n",
       "      <th>1208</th>\n",
       "      <td>AUDI</td>\n",
       "      <td>audi rs 6 2024</td>\n",
       "      <td>220000.0</td>\n",
       "    </tr>\n",
       "    <tr>\n",
       "      <th>3708</th>\n",
       "      <td>AUSTIN</td>\n",
       "      <td>austin mini cooper 1970</td>\n",
       "      <td>1.0</td>\n",
       "    </tr>\n",
       "    <tr>\n",
       "      <th>2317</th>\n",
       "      <td>BAIC</td>\n",
       "      <td>baic x55 2021</td>\n",
       "      <td>12800.0</td>\n",
       "    </tr>\n",
       "  </tbody>\n",
       "</table>\n",
       "</div>"
      ],
      "text/plain": [
       "        item_brand                item_name  item_price\n",
       "1362    ALFA-ROMEO      alfa-romeo 147 2006      8500.0\n",
       "1313  ASTON MARTIN    aston martin dbx 2021    229000.0\n",
       "1208          AUDI           audi rs 6 2024    220000.0\n",
       "3708        AUSTIN  austin mini cooper 1970         1.0\n",
       "2317          BAIC            baic x55 2021     12800.0"
      ]
     },
     "execution_count": 11,
     "metadata": {},
     "output_type": "execute_result"
    }
   ],
   "source": [
    "# Solución\n",
    "# Usaremos los métodos idxmax y idxmin para encontrar el indice de filas que requerimos\n",
    "max_price = df1.loc[df1.groupby('item_brand')['item_price'].idxmax()][['item_brand', 'item_name', 'item_price']]\n",
    "min_price = df1.loc[df1.groupby('item_brand')['item_price'].idxmin()][['item_brand', 'item_name', 'item_price']]\n",
    "min_price.head()\n",
    "max_price.head()"
   ]
  },
  {
   "cell_type": "markdown",
   "metadata": {},
   "source": [
    "4. Encuentra las tres marcas con mayor número de autos financiados por Santander (`item_financed_by`). "
   ]
  },
  {
   "cell_type": "code",
   "execution_count": 12,
   "metadata": {},
   "outputs": [
    {
     "data": {
      "text/html": [
       "<div>\n",
       "<style scoped>\n",
       "    .dataframe tbody tr th:only-of-type {\n",
       "        vertical-align: middle;\n",
       "    }\n",
       "\n",
       "    .dataframe tbody tr th {\n",
       "        vertical-align: top;\n",
       "    }\n",
       "\n",
       "    .dataframe thead th {\n",
       "        text-align: right;\n",
       "    }\n",
       "</style>\n",
       "<table border=\"1\" class=\"dataframe\">\n",
       "  <thead>\n",
       "    <tr style=\"text-align: right;\">\n",
       "      <th></th>\n",
       "      <th>item_brand</th>\n",
       "      <th>count</th>\n",
       "    </tr>\n",
       "  </thead>\n",
       "  <tbody>\n",
       "    <tr>\n",
       "      <th>0</th>\n",
       "      <td>BMW</td>\n",
       "      <td>296</td>\n",
       "    </tr>\n",
       "    <tr>\n",
       "      <th>1</th>\n",
       "      <td>TOYOTA</td>\n",
       "      <td>261</td>\n",
       "    </tr>\n",
       "    <tr>\n",
       "      <th>2</th>\n",
       "      <td>NISSAN</td>\n",
       "      <td>228</td>\n",
       "    </tr>\n",
       "  </tbody>\n",
       "</table>\n",
       "</div>"
      ],
      "text/plain": [
       "  item_brand  count\n",
       "0        BMW    296\n",
       "1     TOYOTA    261\n",
       "2     NISSAN    228"
      ]
     },
     "execution_count": 12,
     "metadata": {},
     "output_type": "execute_result"
    }
   ],
   "source": [
    "# Solución\n",
    "santander_financed = df1[df1['item_financed_by'] == 'Santander']\n",
    "# Usamos value_counts() para las marcas por autos Santader\n",
    "# Luego usamos head(3) para quedarnos con los 3 más altos\n",
    "# Terminamos con reset_index() para convertir en un dataframe\n",
    "financed_brands = santander_financed['item_brand'].value_counts().head(3).reset_index()\n",
    "financed_brands.columns = ['item_brand', 'count'] #filtramos las dos columnas \n",
    "financed_brands\n",
    "# Las 3 marcas con mayor financiamientpo por Santander son BMW, TOYOTA y NISSAN"
   ]
  },
  {
   "cell_type": "markdown",
   "metadata": {},
   "source": [
    "5. Agrupa las publicaciones por tipo de transmisión (`item_transmission`) y calcula la desviación estándar del precio (`item_price`) para cada tipo.  "
   ]
  },
  {
   "cell_type": "code",
   "execution_count": 89,
   "metadata": {},
   "outputs": [
    {
     "data": {
      "text/html": [
       "<div>\n",
       "<style scoped>\n",
       "    .dataframe tbody tr th:only-of-type {\n",
       "        vertical-align: middle;\n",
       "    }\n",
       "\n",
       "    .dataframe tbody tr th {\n",
       "        vertical-align: top;\n",
       "    }\n",
       "\n",
       "    .dataframe thead th {\n",
       "        text-align: right;\n",
       "    }\n",
       "</style>\n",
       "<table border=\"1\" class=\"dataframe\">\n",
       "  <thead>\n",
       "    <tr style=\"text-align: right;\">\n",
       "      <th></th>\n",
       "      <th>item_transmission</th>\n",
       "      <th>item_price</th>\n",
       "    </tr>\n",
       "  </thead>\n",
       "  <tbody>\n",
       "    <tr>\n",
       "      <th>0</th>\n",
       "      <td>Automática</td>\n",
       "      <td>15332.729048</td>\n",
       "    </tr>\n",
       "    <tr>\n",
       "      <th>1</th>\n",
       "      <td>Automática - Secuencial</td>\n",
       "      <td>22678.641589</td>\n",
       "    </tr>\n",
       "    <tr>\n",
       "      <th>2</th>\n",
       "      <td>Mecánica</td>\n",
       "      <td>8137.122127</td>\n",
       "    </tr>\n",
       "  </tbody>\n",
       "</table>\n",
       "</div>"
      ],
      "text/plain": [
       "         item_transmission    item_price\n",
       "0               Automática  15332.729048\n",
       "1  Automática - Secuencial  22678.641589\n",
       "2                 Mecánica   8137.122127"
      ]
     },
     "execution_count": 89,
     "metadata": {},
     "output_type": "execute_result"
    }
   ],
   "source": [
    "# Solución\n",
    "transmission_std = df1.groupby('item_transmission')['item_price'].std().reset_index()\n",
    "transmission_std"
   ]
  },
  {
   "cell_type": "markdown",
   "metadata": {},
   "source": [
    "6. ¿Cuál es el kilometraje promedio de las publicaciones con el tag \"Premium\" y de las publicaciones con el tag \"Como nuevo\"?"
   ]
  },
  {
   "cell_type": "code",
   "execution_count": 69,
   "metadata": {},
   "outputs": [
    {
     "name": "stdout",
     "output_type": "stream",
     "text": [
      "Kilometraje promedio de publicaciones con el tag \"Premium\": 48400.235897435894 \n",
      "Kilometraje promedio de publicaciones con el tag \"Como nuevo\": 35963.47619047619\n"
     ]
    }
   ],
   "source": [
    "# Solución\n",
    "# Usamos str.contains para filtar el texto\n",
    "# También nos aseguramos que los valores faltantes no generen conflictos\n",
    "tag_premium = df1[df1['item_tag'].str.contains('Premium', na=False)]['item_km'].mean()\n",
    "tag_como_nuevo = df1[df1['item_tag'].str.contains('Como nuevo', na=False)]['item_km'].mean()\n",
    "print('Kilometraje promedio de publicaciones con el tag \"Premium\":' , tag_premium,\n",
    "      '\\nKilometraje promedio de publicaciones con el tag \"Como nuevo\":' , tag_como_nuevo)"
   ]
  },
  {
   "cell_type": "markdown",
   "metadata": {},
   "source": [
    "7. ¿Cuáles son las marcas de vehículas para los que todos sus modelos fabricados en los últimos 5 años tienen al menos 5 publicaciones cada una?"
   ]
  },
  {
   "cell_type": "code",
   "execution_count": 16,
   "metadata": {},
   "outputs": [
    {
     "ename": "TypeError",
     "evalue": "'int' object is not callable",
     "output_type": "error",
     "traceback": [
      "\u001b[1;31m---------------------------------------------------------------------------\u001b[0m",
      "\u001b[1;31mTypeError\u001b[0m                                 Traceback (most recent call last)",
      "Cell \u001b[1;32mIn[16], line 19\u001b[0m\n\u001b[0;32m     15\u001b[0m df_last_5y_filt\u001b[38;5;241m=\u001b[39m count[count[\u001b[38;5;124m'\u001b[39m\u001b[38;5;124mcount\u001b[39m\u001b[38;5;124m'\u001b[39m] \u001b[38;5;241m>\u001b[39m\u001b[38;5;241m=\u001b[39m \u001b[38;5;241m5\u001b[39m]\n\u001b[0;32m     17\u001b[0m \u001b[38;5;66;03m#lista\u001b[39;00m\n\u001b[0;32m     18\u001b[0m list_models \u001b[38;5;241m=\u001b[39m \u001b[43mdf_last_5y_filt\u001b[49m\u001b[38;5;241;43m.\u001b[39;49m\u001b[43mgroupby\u001b[49m\u001b[43m(\u001b[49m\n\u001b[1;32m---> 19\u001b[0m \u001b[43m    \u001b[49m\u001b[38;5;124;43m'\u001b[39;49m\u001b[38;5;124;43mitem_brand\u001b[39;49m\u001b[38;5;124;43m'\u001b[39;49m\u001b[43m)\u001b[49m\u001b[38;5;241;43m.\u001b[39;49m\u001b[43mfilter\u001b[49m\u001b[43m(\u001b[49m\u001b[38;5;28;43mlen\u001b[39;49m\u001b[43m(\u001b[49m\u001b[43mlast_5_years\u001b[49m\u001b[43m)\u001b[49m\u001b[43m)\u001b[49m[\u001b[38;5;124m'\u001b[39m\u001b[38;5;124mitem_brand\u001b[39m\u001b[38;5;124m'\u001b[39m]\u001b[38;5;241m.\u001b[39munique()\n\u001b[0;32m     20\u001b[0m \u001b[38;5;28mprint\u001b[39m(\u001b[38;5;124m\"\u001b[39m\u001b[38;5;130;01m\\n\u001b[39;00m\u001b[38;5;124mMarcas con todos los modelos fabricados en los últimos 5 años con al menos 5 publicaciones:\u001b[39m\u001b[38;5;130;01m\\n\u001b[39;00m\u001b[38;5;124m\"\u001b[39m, list_models)\n",
      "File \u001b[1;32mc:\\Users\\user\\AppData\\Local\\Programs\\Python\\Python310\\lib\\site-packages\\pandas\\core\\groupby\\generic.py:1919\u001b[0m, in \u001b[0;36mDataFrameGroupBy.filter\u001b[1;34m(self, func, dropna, *args, **kwargs)\u001b[0m\n\u001b[0;32m   1914\u001b[0m \u001b[38;5;28;01mfor\u001b[39;00m name, group \u001b[38;5;129;01min\u001b[39;00m gen:\n\u001b[0;32m   1915\u001b[0m     \u001b[38;5;66;03m# 2023-02-27 no tests are broken this pinning, but it is documented in the\u001b[39;00m\n\u001b[0;32m   1916\u001b[0m     \u001b[38;5;66;03m#  docstring above.\u001b[39;00m\n\u001b[0;32m   1917\u001b[0m     \u001b[38;5;28mobject\u001b[39m\u001b[38;5;241m.\u001b[39m\u001b[38;5;21m__setattr__\u001b[39m(group, \u001b[38;5;124m\"\u001b[39m\u001b[38;5;124mname\u001b[39m\u001b[38;5;124m\"\u001b[39m, name)\n\u001b[1;32m-> 1919\u001b[0m     res \u001b[38;5;241m=\u001b[39m func(group, \u001b[38;5;241m*\u001b[39margs, \u001b[38;5;241m*\u001b[39m\u001b[38;5;241m*\u001b[39mkwargs)\n\u001b[0;32m   1921\u001b[0m     \u001b[38;5;28;01mtry\u001b[39;00m:\n\u001b[0;32m   1922\u001b[0m         res \u001b[38;5;241m=\u001b[39m res\u001b[38;5;241m.\u001b[39msqueeze()\n",
      "\u001b[1;31mTypeError\u001b[0m: 'int' object is not callable"
     ]
    }
   ],
   "source": [
    "# Solución\n",
    "\n",
    "# Ordenamos los años con sorted y obtenemos solo valores únicos con unique()\n",
    "# Seleccionamos los 5 últimos años -> [-5:]\n",
    "last_5_years = sorted(df1['item_year'].unique())[-5:]\n",
    "# Los últimos 5 años fueron 2021 - 2025\n",
    "\n",
    "# Filtamos las publicaciones de esos años con .isin\n",
    "df_last_5y = df1[df1['item_year'].isin(last_5_years)]\n",
    "\n",
    "# Contamos con size() las filas agrupadas por marca y modelo y convertimos en dataframe\n",
    "count = df_last_5y.groupby(['item_brand', 'item_name']).size().reset_index(name='count')\n",
    "\n",
    "# Filtramos las publicaciones con al menos 5 \n",
    "df_last_5y_filt= count[count['count'] >= 5]\n",
    "\n",
    "#lista\n",
    "list_models = df_last_5y_filt.groupby(\n",
    "    'item_brand').filter(lambda x: x['count'].count() == len(last_5_years))['item_brand'].unique()\n",
    "print(\"\\nMarcas con todos los modelos fabricados en los últimos 5 años con al menos 5 publicaciones:\\n\", list_models)\n",
    "s"
   ]
  },
  {
   "cell_type": "markdown",
   "metadata": {},
   "source": [
    "## **Evolución económica internacional**"
   ]
  },
  {
   "cell_type": "markdown",
   "metadata": {},
   "source": [
    "Importa el conjunto de datos de la hoja \"Data\" del archivo `pwt1001.xlsx`. El diccionario de variables está disponible en la hoja \"Legend\" del archivo Excel.\n",
    "    "
   ]
  },
  {
   "cell_type": "markdown",
   "metadata": {},
   "source": [
    "1. Calcule el PBI per cápita real ajustado por poder de paridad de compra (PPP). Use la variable de PBI que se calcula por gasto y la población. ¿Cuáles son los 10 países top?"
   ]
  },
  {
   "cell_type": "code",
   "execution_count": 109,
   "metadata": {},
   "outputs": [
    {
     "data": {
      "text/plain": [
       "country\n",
       "United States         20860506.00\n",
       "China                 20056066.00\n",
       "India                  8945547.00\n",
       "Japan                  5108800.00\n",
       "Germany                4308861.50\n",
       "Russian Federation     4234081.50\n",
       "Brazil                 3294728.50\n",
       "United Kingdom         3118991.25\n",
       "Indonesia              3104438.75\n",
       "France                 3018884.75\n",
       "Name: rgdpe, dtype: float64"
      ]
     },
     "execution_count": 109,
     "metadata": {},
     "output_type": "execute_result"
    }
   ],
   "source": [
    "# Solución\n",
    "import pandas as pd\n",
    "import numpy as np\n",
    "\n",
    "# Importar los datos\n",
    "data = pd.read_excel('pwt1001.xlsx', sheet_name='Data')\n",
    "legend = pd.read_excel('pwt1001.xlsx', sheet_name='Legend')\n",
    "# Usamos Expenditure-side real GDP at chained PPPs (in mil. 2017US$)\n",
    "top_10_countries = data.groupby('country')['rgdpe'].max().sort_values(ascending=False).head(10)\n",
    "top_10_countries\n"
   ]
  },
  {
   "cell_type": "markdown",
   "metadata": {},
   "source": [
    "2. Genera el ránking de los países con el mayor incremento del PBI per cápita real PPP entre los años 1990 y 2019. ¿Dónde se ubica Perú? Para los países que no tengan información para dichos años, puede utilizar datos provenientes de hasta dos años antes o después"
   ]
  },
  {
   "cell_type": "code",
   "execution_count": 117,
   "metadata": {},
   "outputs": [
    {
     "data": {
      "text/plain": [
       "np.int64(47)"
      ]
     },
     "execution_count": 117,
     "metadata": {},
     "output_type": "execute_result"
    }
   ],
   "source": [
    "# Solución\n",
    "data_filt = data[(data['year'] >= 1988) & (data['year'] <= 2019)]\n",
    "data_1990 = data_filt[(data_filt['year'] >= 1988) & (data_filt[\n",
    "    'year'] <= 1992)].groupby('country')['rgdpe'].mean()\n",
    "data_2019 = data_filt[(data_filt['year'] >= 2017) & (data_filt[\n",
    "    'year'] <= 2019)].groupby('country')['rgdpe'].mean()\n",
    "gdp_change = ((data_2019 - data_1990) / data_1990).dropna().sort_values(ascending=False)\n",
    "gdp_change.head(10)\n",
    "\n",
    "peru_rank = gdp_change.reset_index().query(\"country == 'Peru'\").index[0] + 1\n",
    "peru_rank\n"
   ]
  },
  {
   "cell_type": "markdown",
   "metadata": {},
   "source": [
    "3. Para el periodo 2010-2019, calcule el promedio del índice del capital humano. ¿Qué relación existe entre esta variable y el PBI per cápita real PPP calculado previamente? ¿y el número de horas laboradas al año por los trabajadores?"
   ]
  },
  {
   "cell_type": "code",
   "execution_count": 119,
   "metadata": {},
   "outputs": [
    {
     "data": {
      "text/plain": [
       "np.float64(-0.5769800008938786)"
      ]
     },
     "execution_count": 119,
     "metadata": {},
     "output_type": "execute_result"
    }
   ],
   "source": [
    "# Solución\n",
    "data_2010_2019 = data[(data['year'] >= 2010) & (data['year'] <= 2019)]\n",
    "hc_avg = data_2010_2019.groupby('country')['hc'].mean()\n",
    "pib_avg = data_2010_2019.groupby('country')['rgdpe'].mean()\n",
    "avh_avg = data_2010_2019.groupby('country')['avh'].mean()\n",
    "\n",
    "correlation_hc_pib = hc_avg.corr(pib_avg)\n",
    "correlation_hc_avh = hc_avg.corr(avh_avg)\n",
    "correlation_hc_avh\n"
   ]
  },
  {
   "cell_type": "markdown",
   "metadata": {},
   "source": [
    "4. A partir de la variable del precio de los hogares, calcula los países y los años en los cuales se registró la mayor inflación anual para todo el periodo de tiempo disponible en la base de datos"
   ]
  },
  {
   "cell_type": "code",
   "execution_count": 128,
   "metadata": {},
   "outputs": [
    {
     "name": "stderr",
     "output_type": "stream",
     "text": [
      "C:\\Users\\user\\AppData\\Local\\Temp\\ipykernel_8216\\3170689994.py:3: FutureWarning: The default fill_method='ffill' in SeriesGroupBy.pct_change is deprecated and will be removed in a future version. Either fill in any non-leading NA values prior to calling pct_change or specify 'fill_method=None' to not fill NA values.\n",
      "  data['inflation'] = data.groupby('country')['pl_c'].pct_change() * 100\n"
     ]
    },
    {
     "data": {
      "text/plain": [
       "country\n",
       "Venezuela (Bolivarian Republic of)    355.748049\n",
       "Zimbabwe                              281.705724\n",
       "Equatorial Guinea                     278.866183\n",
       "Brunei Darussalam                     265.190719\n",
       "Mauritania                            235.565319\n",
       "Seychelles                            226.327482\n",
       "Saudi Arabia                          147.961250\n",
       "Angola                                144.032916\n",
       "United Arab Emirates                  140.988488\n",
       "Lebanon                               121.297922\n",
       "Name: inflation, dtype: float64"
      ]
     },
     "execution_count": 128,
     "metadata": {},
     "output_type": "execute_result"
    }
   ],
   "source": [
    "# Solución\n",
    "data = data.sort_values(['country', 'year'])\n",
    "data['inflation'] = data.groupby('country')['pl_c'].pct_change() * 100\n",
    "max_inflation = data.groupby('country')['inflation'].max().sort_values(ascending=False).head(10)\n",
    "max_inflation.head(10)"
   ]
  },
  {
   "cell_type": "markdown",
   "metadata": {},
   "source": [
    "5. ¿Cuáles son los países con la mayor cantidad de missing values en la variable de productividad total de factores a precios corrientes?"
   ]
  },
  {
   "cell_type": "code",
   "execution_count": 130,
   "metadata": {},
   "outputs": [
    {
     "data": {
      "text/plain": [
       "country\n",
       "Albania                      70\n",
       "Turkmenistan                 70\n",
       "Sint Maarten (Dutch part)    70\n",
       "Grenada                      70\n",
       "Ghana                        70\n",
       "Name: ctfp, dtype: int64"
      ]
     },
     "execution_count": 130,
     "metadata": {},
     "output_type": "execute_result"
    }
   ],
   "source": [
    "# Solución\n",
    "tfp_missing = data['ctfp'].isnull().groupby(data['country']).sum().sort_values(ascending=False)\n",
    "tfp_missing.head()"
   ]
  },
  {
   "cell_type": "markdown",
   "metadata": {},
   "source": [
    "6.  Agrupa los datos por país y calcula el promedio de las horas trabajadas anuales (avh) y de la educación promedio (hc) para el periodo 2000-2020."
   ]
  },
  {
   "cell_type": "code",
   "execution_count": 131,
   "metadata": {},
   "outputs": [
    {
     "data": {
      "text/html": [
       "<div>\n",
       "<style scoped>\n",
       "    .dataframe tbody tr th:only-of-type {\n",
       "        vertical-align: middle;\n",
       "    }\n",
       "\n",
       "    .dataframe tbody tr th {\n",
       "        vertical-align: top;\n",
       "    }\n",
       "\n",
       "    .dataframe thead th {\n",
       "        text-align: right;\n",
       "    }\n",
       "</style>\n",
       "<table border=\"1\" class=\"dataframe\">\n",
       "  <thead>\n",
       "    <tr style=\"text-align: right;\">\n",
       "      <th></th>\n",
       "      <th>avh</th>\n",
       "      <th>hc</th>\n",
       "    </tr>\n",
       "    <tr>\n",
       "      <th>country</th>\n",
       "      <th></th>\n",
       "      <th></th>\n",
       "    </tr>\n",
       "  </thead>\n",
       "  <tbody>\n",
       "    <tr>\n",
       "      <th>Albania</th>\n",
       "      <td>NaN</td>\n",
       "      <td>2.895579</td>\n",
       "    </tr>\n",
       "    <tr>\n",
       "      <th>Algeria</th>\n",
       "      <td>NaN</td>\n",
       "      <td>2.080837</td>\n",
       "    </tr>\n",
       "    <tr>\n",
       "      <th>Angola</th>\n",
       "      <td>NaN</td>\n",
       "      <td>1.399746</td>\n",
       "    </tr>\n",
       "    <tr>\n",
       "      <th>Anguilla</th>\n",
       "      <td>NaN</td>\n",
       "      <td>NaN</td>\n",
       "    </tr>\n",
       "    <tr>\n",
       "      <th>Antigua and Barbuda</th>\n",
       "      <td>NaN</td>\n",
       "      <td>NaN</td>\n",
       "    </tr>\n",
       "    <tr>\n",
       "      <th>...</th>\n",
       "      <td>...</td>\n",
       "      <td>...</td>\n",
       "    </tr>\n",
       "    <tr>\n",
       "      <th>Venezuela (Bolivarian Republic of)</th>\n",
       "      <td>1874.516018</td>\n",
       "      <td>2.538335</td>\n",
       "    </tr>\n",
       "    <tr>\n",
       "      <th>Viet Nam</th>\n",
       "      <td>2243.230824</td>\n",
       "      <td>2.407059</td>\n",
       "    </tr>\n",
       "    <tr>\n",
       "      <th>Yemen</th>\n",
       "      <td>NaN</td>\n",
       "      <td>1.444725</td>\n",
       "    </tr>\n",
       "    <tr>\n",
       "      <th>Zambia</th>\n",
       "      <td>NaN</td>\n",
       "      <td>2.304970</td>\n",
       "    </tr>\n",
       "    <tr>\n",
       "      <th>Zimbabwe</th>\n",
       "      <td>NaN</td>\n",
       "      <td>2.388763</td>\n",
       "    </tr>\n",
       "  </tbody>\n",
       "</table>\n",
       "<p>183 rows × 2 columns</p>\n",
       "</div>"
      ],
      "text/plain": [
       "                                            avh        hc\n",
       "country                                                  \n",
       "Albania                                     NaN  2.895579\n",
       "Algeria                                     NaN  2.080837\n",
       "Angola                                      NaN  1.399746\n",
       "Anguilla                                    NaN       NaN\n",
       "Antigua and Barbuda                         NaN       NaN\n",
       "...                                         ...       ...\n",
       "Venezuela (Bolivarian Republic of)  1874.516018  2.538335\n",
       "Viet Nam                            2243.230824  2.407059\n",
       "Yemen                                       NaN  1.444725\n",
       "Zambia                                      NaN  2.304970\n",
       "Zimbabwe                                    NaN  2.388763\n",
       "\n",
       "[183 rows x 2 columns]"
      ]
     },
     "execution_count": 131,
     "metadata": {},
     "output_type": "execute_result"
    }
   ],
   "source": [
    "# Solución\n",
    "data_2000_2020 = data[(data['year'] >= 2000) & (data['year'] <= 2020)]\n",
    "avh_hc_avg = data_2000_2020.groupby('country')[['avh', 'hc']].mean()\n",
    "avh_hc_avg\n"
   ]
  },
  {
   "cell_type": "markdown",
   "metadata": {},
   "source": [
    "7.  Genere una variable que ordene a los países según el porcetaje de formación brutal de capital del 2019. Luego, estable diez grupos a manera de deciles. ¿En qué decil se ubica Péru? Vuelva a calcular usando la información de 1990. ¿El Perú se mantiene en el mismo décil o cambia?"
   ]
  },
  {
   "cell_type": "code",
   "execution_count": 133,
   "metadata": {},
   "outputs": [
    {
     "name": "stdout",
     "output_type": "stream",
     "text": [
      "\n",
      "Decil de Perú en 2019: 5, en 1990: 4.0\n"
     ]
    }
   ],
   "source": [
    "# Solución\n",
    "data_2019 = data[data['year'] == 2019].copy()\n",
    "data_1990 = data[data['year'] == 1990].copy()\n",
    "\n",
    "data_2019['capital_formation_rank'] = pd.qcut(data_2019['csh_i'], 10, labels=False) + 1\n",
    "data_1990['capital_formation_rank'] = pd.qcut(data_1990['csh_i'], 10, labels=False) + 1\n",
    "\n",
    "peru_decile_2019 = data_2019.query(\"country == 'Peru'\")['capital_formation_rank'].values[0]\n",
    "peru_decile_1990 = data_1990.query(\"country == 'Peru'\")['capital_formation_rank'].values[0]\n",
    "\n",
    "print(f\"\\nDecil de Perú en 2019: {peru_decile_2019}, en 1990: {peru_decile_1990}\")"
   ]
  },
  {
   "cell_type": "markdown",
   "metadata": {},
   "source": [
    "## **Transacciones Financieras**"
   ]
  },
  {
   "cell_type": "markdown",
   "metadata": {},
   "source": [
    "Importa el conjunto de datos `base_financiera.csv`\n",
    "    "
   ]
  },
  {
   "cell_type": "markdown",
   "metadata": {},
   "source": [
    "8. Filtra todas las transacciones de tipo \"Debit\" en las que el monto sea mayor a 200, y calcula el monto total de esas transacciones. Además, determina cuántos clientes únicos realizaron esas transacciones."
   ]
  },
  {
   "cell_type": "code",
   "execution_count": 136,
   "metadata": {},
   "outputs": [
    {
     "name": "stdout",
     "output_type": "stream",
     "text": [
      "Monto total de transacciones tipo 'Debit' mayores a 200: 2847871.75\n"
     ]
    },
    {
     "data": {
      "text/html": [
       "<div>\n",
       "<style scoped>\n",
       "    .dataframe tbody tr th:only-of-type {\n",
       "        vertical-align: middle;\n",
       "    }\n",
       "\n",
       "    .dataframe tbody tr th {\n",
       "        vertical-align: top;\n",
       "    }\n",
       "\n",
       "    .dataframe thead th {\n",
       "        text-align: right;\n",
       "    }\n",
       "</style>\n",
       "<table border=\"1\" class=\"dataframe\">\n",
       "  <thead>\n",
       "    <tr style=\"text-align: right;\">\n",
       "      <th></th>\n",
       "      <th>Transaction_ID</th>\n",
       "      <th>Customer_ID</th>\n",
       "      <th>Date</th>\n",
       "      <th>Amount</th>\n",
       "      <th>Transaction_Type</th>\n",
       "      <th>Region</th>\n",
       "    </tr>\n",
       "  </thead>\n",
       "  <tbody>\n",
       "    <tr>\n",
       "      <th>0</th>\n",
       "      <td>1001</td>\n",
       "      <td>C190</td>\n",
       "      <td>2023-01-01</td>\n",
       "      <td>798.68</td>\n",
       "      <td>Credit</td>\n",
       "      <td>North</td>\n",
       "    </tr>\n",
       "    <tr>\n",
       "      <th>1</th>\n",
       "      <td>1002</td>\n",
       "      <td>C016</td>\n",
       "      <td>2023-01-02</td>\n",
       "      <td>906.97</td>\n",
       "      <td>Debit</td>\n",
       "      <td>South</td>\n",
       "    </tr>\n",
       "    <tr>\n",
       "      <th>2</th>\n",
       "      <td>1003</td>\n",
       "      <td>C033</td>\n",
       "      <td>2023-01-03</td>\n",
       "      <td>1579.96</td>\n",
       "      <td>Debit</td>\n",
       "      <td>South</td>\n",
       "    </tr>\n",
       "    <tr>\n",
       "      <th>3</th>\n",
       "      <td>1004</td>\n",
       "      <td>C142</td>\n",
       "      <td>2023-01-04</td>\n",
       "      <td>1579.62</td>\n",
       "      <td>Credit</td>\n",
       "      <td>East</td>\n",
       "    </tr>\n",
       "    <tr>\n",
       "      <th>4</th>\n",
       "      <td>1005</td>\n",
       "      <td>C035</td>\n",
       "      <td>2023-01-05</td>\n",
       "      <td>3719.21</td>\n",
       "      <td>Debit</td>\n",
       "      <td>North</td>\n",
       "    </tr>\n",
       "    <tr>\n",
       "      <th>...</th>\n",
       "      <td>...</td>\n",
       "      <td>...</td>\n",
       "      <td>...</td>\n",
       "      <td>...</td>\n",
       "      <td>...</td>\n",
       "      <td>...</td>\n",
       "    </tr>\n",
       "    <tr>\n",
       "      <th>2025</th>\n",
       "      <td>1100</td>\n",
       "      <td>C175</td>\n",
       "      <td>2023-01-20</td>\n",
       "      <td>2137.91</td>\n",
       "      <td>Credit</td>\n",
       "      <td>East</td>\n",
       "    </tr>\n",
       "    <tr>\n",
       "      <th>2026</th>\n",
       "      <td>2180</td>\n",
       "      <td>C072</td>\n",
       "      <td>2023-01-20</td>\n",
       "      <td>4406.49</td>\n",
       "      <td>Debit</td>\n",
       "      <td>South</td>\n",
       "    </tr>\n",
       "    <tr>\n",
       "      <th>2027</th>\n",
       "      <td>1965</td>\n",
       "      <td>C022</td>\n",
       "      <td>2023-01-05</td>\n",
       "      <td>676.48</td>\n",
       "      <td>Debit</td>\n",
       "      <td>North</td>\n",
       "    </tr>\n",
       "    <tr>\n",
       "      <th>2028</th>\n",
       "      <td>1793</td>\n",
       "      <td>C107</td>\n",
       "      <td>2023-02-02</td>\n",
       "      <td>4099.63</td>\n",
       "      <td>Debit</td>\n",
       "      <td>North</td>\n",
       "    </tr>\n",
       "    <tr>\n",
       "      <th>2029</th>\n",
       "      <td>1030</td>\n",
       "      <td>C049</td>\n",
       "      <td>2023-01-30</td>\n",
       "      <td>330.36</td>\n",
       "      <td>Credit</td>\n",
       "      <td>North</td>\n",
       "    </tr>\n",
       "  </tbody>\n",
       "</table>\n",
       "<p>2030 rows × 6 columns</p>\n",
       "</div>"
      ],
      "text/plain": [
       "      Transaction_ID Customer_ID        Date   Amount Transaction_Type Region\n",
       "0               1001        C190  2023-01-01   798.68           Credit  North\n",
       "1               1002        C016  2023-01-02   906.97            Debit  South\n",
       "2               1003        C033  2023-01-03  1579.96            Debit  South\n",
       "3               1004        C142  2023-01-04  1579.62           Credit   East\n",
       "4               1005        C035  2023-01-05  3719.21            Debit  North\n",
       "...              ...         ...         ...      ...              ...    ...\n",
       "2025            1100        C175  2023-01-20  2137.91           Credit   East\n",
       "2026            2180        C072  2023-01-20  4406.49            Debit  South\n",
       "2027            1965        C022  2023-01-05   676.48            Debit  North\n",
       "2028            1793        C107  2023-02-02  4099.63            Debit  North\n",
       "2029            1030        C049  2023-01-30   330.36           Credit  North\n",
       "\n",
       "[2030 rows x 6 columns]"
      ]
     },
     "execution_count": 136,
     "metadata": {},
     "output_type": "execute_result"
    }
   ],
   "source": [
    "# Solución\n",
    "data3 = pd.read_csv('base_financiera.csv')\n",
    "\n",
    "filtered_debit = data3[(data3['Transaction_Type'] == 'Debit') & (data3['Amount'] > 200)]\n",
    "total_amount_debit = filtered_debit['Amount'].sum()\n",
    "unique_customers_debit = filtered_debit['Customer_ID'].nunique()\n",
    "print(\"Monto total de transacciones tipo 'Debit' mayores a 200:\", total_amount_debit)\n",
    "data3\n"
   ]
  },
  {
   "cell_type": "markdown",
   "metadata": {},
   "source": [
    "9. Identifica las transacciones con valores nulos en la columna (`Amount`) . Rellena esos valores con la mediana de los montos por tipo de transacción (`Transaction_Type`) y luego calcula el monto total de transacciones por región (`region`) ."
   ]
  },
  {
   "cell_type": "code",
   "execution_count": 137,
   "metadata": {},
   "outputs": [
    {
     "name": "stdout",
     "output_type": "stream",
     "text": [
      "Número de clientes únicos con transacciones 'Debit' mayores a 200: 200\n",
      "\n",
      "Monto total de transacciones por región:\n",
      " Region\n",
      "East     1269409.53\n",
      "North    1321224.96\n",
      "South    1208300.23\n",
      "West     1233552.50\n",
      "Name: Amount, dtype: float64\n"
     ]
    }
   ],
   "source": [
    "# Solución\n",
    "median_by_type = data.groupby('Transaction_Type')['Amount'].transform('median')\n",
    "data['Amount'] = data['Amount'].fillna(median_by_type)\n",
    "total_amount_by_region = data.groupby('Region')['Amount'].sum()\n",
    "print(\"Número de clientes únicos con transacciones 'Debit' mayores a 200:\", unique_customers_debit)\n",
    "print(\"\\nMonto total de transacciones por región:\\n\", total_amount_by_region)"
   ]
  },
  {
   "cell_type": "markdown",
   "metadata": {},
   "source": [
    "10. Busca transacciones duplicadas considerando las columnas (`Customer_ID`) y (`Date`). Elimina los duplicados manteniendo solo la primera ocurrencia. Luego, agrupa las transacciones restantes por (`Customer_ID`) y calcula el monto promedio y la cantidad de transacciones por cliente."
   ]
  },
  {
   "cell_type": "code",
   "execution_count": 138,
   "metadata": {},
   "outputs": [
    {
     "name": "stdout",
     "output_type": "stream",
     "text": [
      "\n",
      "Estadísticas por cliente tras limpiar duplicados:\n",
      "     Customer_ID  average_amount  transaction_count\n",
      "0          C001     3283.319412                 17\n",
      "1          C002     1881.827778                  9\n",
      "2          C003     3102.125000                 14\n",
      "3          C004     2879.267143                  7\n",
      "4          C005     3364.053333                  6\n",
      "..          ...             ...                ...\n",
      "195        C196     2566.555000                 10\n",
      "196        C197     2530.674286                 14\n",
      "197        C198     2484.925000                 12\n",
      "198        C199     2942.038000                  5\n",
      "199        C200     2196.990000                  5\n",
      "\n",
      "[200 rows x 3 columns]\n"
     ]
    }
   ],
   "source": [
    "# Solución\n",
    "duplicates = data.duplicated(subset=['Customer_ID', 'Date'], keep='first')\n",
    "data_cleaned = data[~duplicates]\n",
    "\n",
    "customer_stats = data_cleaned.groupby('Customer_ID').agg(\n",
    "    average_amount=('Amount', 'mean'),\n",
    "    transaction_count=('Amount', 'count')\n",
    ").reset_index()\n",
    "print(\"\\nEstadísticas por cliente tras limpiar duplicados:\\n\", customer_stats)\n"
   ]
  }
 ],
 "metadata": {
  "hide_input": false,
  "kernelspec": {
   "display_name": "Python 3",
   "language": "python",
   "name": "python3"
  },
  "language_info": {
   "codemirror_mode": {
    "name": "ipython",
    "version": 3
   },
   "file_extension": ".py",
   "mimetype": "text/x-python",
   "name": "python",
   "nbconvert_exporter": "python",
   "pygments_lexer": "ipython3",
   "version": "3.10.0"
  },
  "toc": {
   "base_numbering": 1,
   "nav_menu": {},
   "number_sections": true,
   "sideBar": true,
   "skip_h1_title": false,
   "title_cell": "Table of Contents",
   "title_sidebar": "Contents",
   "toc_cell": false,
   "toc_position": {},
   "toc_section_display": true,
   "toc_window_display": false
  }
 },
 "nbformat": 4,
 "nbformat_minor": 4
}
